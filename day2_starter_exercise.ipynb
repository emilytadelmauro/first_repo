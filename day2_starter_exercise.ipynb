{
  "cells": [
    {
      "cell_type": "markdown",
      "metadata": {
        "id": "view-in-github",
        "colab_type": "text"
      },
      "source": [
        "<a href=\"https://colab.research.google.com/github/emilytadelmauro/first_repo/blob/main/day2_starter_exercise.ipynb\" target=\"_parent\"><img src=\"https://colab.research.google.com/assets/colab-badge.svg\" alt=\"Open In Colab\"/></a>"
      ]
    },
    {
      "cell_type": "markdown",
      "metadata": {
        "id": "dSMY4eTGTvb8"
      },
      "source": [
        "# Day 2 Starter Exercise\n",
        "This set of exercises consolidates and refreshes the topics covered in the Foundation course."
      ]
    },
    {
      "cell_type": "markdown",
      "metadata": {
        "id": "FzeophgzTvb-"
      },
      "source": [
        "## Strings\n",
        "\n",
        "### String methods\n",
        "Here is a quote from Monthy Python"
      ]
    },
    {
      "cell_type": "code",
      "execution_count": null,
      "metadata": {
        "id": "-HKUxTo0Tvb-"
      },
      "outputs": [],
      "source": [
        "quote = \"What have the Romans ever done for us?\""
      ]
    },
    {
      "cell_type": "markdown",
      "metadata": {
        "id": "xAVTsBYQTvb_"
      },
      "source": [
        "Use string methods to\n",
        "1. uppercase (this has been done for you)\n",
        "1. lowercase\n",
        "1. split into a list of words"
      ]
    },
    {
      "cell_type": "code",
      "execution_count": null,
      "metadata": {
        "id": "S7wPBc8zTvb_",
        "outputId": "0530a407-3cd7-486a-91da-a0c88ccf7b94",
        "colab": {
          "base_uri": "https://localhost:8080/",
          "height": 35
        }
      },
      "outputs": [
        {
          "output_type": "execute_result",
          "data": {
            "text/plain": [
              "'WHAT HAVE THE ROMANS EVER DONE FOR US?'"
            ],
            "application/vnd.google.colaboratory.intrinsic+json": {
              "type": "string"
            }
          },
          "metadata": {},
          "execution_count": 69
        }
      ],
      "source": [
        "# uppercase the quote\n",
        "# Write your code below here\n",
        "quote_upper = quote.upper()\n",
        "quote_upper"
      ]
    },
    {
      "cell_type": "code",
      "execution_count": null,
      "metadata": {
        "id": "5p8WmtSlTvb_"
      },
      "outputs": [],
      "source": [
        "# lowercase the quote\n",
        "quote_lower=quote.lower()\n",
        "\n",
        "# Write your code below here\n",
        "quote.split()\n",
        "sample_list=quote.split()\n"
      ]
    },
    {
      "cell_type": "code",
      "execution_count": null,
      "metadata": {
        "id": "Jnuy1mhBTvb_"
      },
      "outputs": [],
      "source": [
        "# split the quote into a list of words\n",
        "# Write your code below here\n",
        "quote.split?"
      ]
    },
    {
      "cell_type": "code",
      "execution_count": null,
      "metadata": {
        "id": "Jhc5Z76aTvcA"
      },
      "outputs": [],
      "source": [
        "# Convert the list of words back into a single string\n",
        "list_words=quote.split()\n",
        "# Write your code below here\n",
        "quote_string=' '.join(sample_list)"
      ]
    },
    {
      "cell_type": "code",
      "execution_count": null,
      "metadata": {
        "id": "2nNtym58TvcA",
        "outputId": "c1ad1f86-f356-4a30-9e5b-a396628a68ed",
        "colab": {
          "base_uri": "https://localhost:8080/"
        }
      },
      "outputs": [
        {
          "output_type": "stream",
          "name": "stdout",
          "text": [
            "1\n",
            "2\n",
            "3\n",
            "4\n",
            "5\n"
          ]
        },
        {
          "output_type": "execute_result",
          "data": {
            "text/plain": [
              "5"
            ]
          },
          "metadata": {},
          "execution_count": 73
        }
      ],
      "source": [
        "# Count the number of occurences of the letter 'e' in the quote\n",
        "# Write your code below here\n",
        "j=0\n",
        "for i in quote_string:\n",
        "  if i =='e':\n",
        "    j=j+1\n",
        "    print(j)\n",
        "quote.count ('e')\n"
      ]
    },
    {
      "cell_type": "code",
      "source": [
        "quote_string.count('e')"
      ],
      "metadata": {
        "id": "lARMagfCbS9z",
        "outputId": "ab3067fe-d320-41e1-d2e0-87edc04541c2",
        "colab": {
          "base_uri": "https://localhost:8080/"
        }
      },
      "execution_count": null,
      "outputs": [
        {
          "output_type": "execute_result",
          "data": {
            "text/plain": [
              "5"
            ]
          },
          "metadata": {},
          "execution_count": 74
        }
      ]
    },
    {
      "cell_type": "code",
      "execution_count": null,
      "metadata": {
        "id": "695UFkPRTvcA",
        "outputId": "2427312f-4bee-44e9-8eae-add794d0457d",
        "colab": {
          "base_uri": "https://localhost:8080/",
          "height": 35
        }
      },
      "outputs": [
        {
          "output_type": "execute_result",
          "data": {
            "text/plain": [
              "'What havu thu Romans uvur donu for us?'"
            ],
            "application/vnd.google.colaboratory.intrinsic+json": {
              "type": "string"
            }
          },
          "metadata": {},
          "execution_count": 75
        }
      ],
      "source": [
        "# Replace all occurences of the letter 'e' with 'u' in the quote\n",
        "# Write your code below here\n",
        "quote.replace('e','u')"
      ]
    },
    {
      "cell_type": "markdown",
      "metadata": {
        "id": "QwtzvnXNTvcA"
      },
      "source": [
        "### Indexing and Slicing strings\n",
        "Return\n",
        "1. the first character of the quote (this has been done for you)\n",
        "1. the last character\n",
        "1. the first five characters\n",
        "1. the last five characters\n"
      ]
    },
    {
      "cell_type": "code",
      "execution_count": null,
      "metadata": {
        "id": "xAvZ6kO8TvcA",
        "outputId": "0e241487-b0a0-4a75-c96a-93cfe9c6355d",
        "colab": {
          "base_uri": "https://localhost:8080/",
          "height": 35
        }
      },
      "outputs": [
        {
          "output_type": "execute_result",
          "data": {
            "text/plain": [
              "'W'"
            ],
            "application/vnd.google.colaboratory.intrinsic+json": {
              "type": "string"
            }
          },
          "metadata": {},
          "execution_count": 76
        }
      ],
      "source": [
        "# Return the first character of the quote (this has been done for you)\n",
        "# Write your code below here\n",
        "quote_first_char = quote[0]\n",
        "quote_first_char"
      ]
    },
    {
      "cell_type": "code",
      "execution_count": null,
      "metadata": {
        "id": "B673GaeXTvcA",
        "outputId": "b403437c-d20a-43a9-9a02-beaed406527e",
        "colab": {
          "base_uri": "https://localhost:8080/"
        }
      },
      "outputs": [
        {
          "output_type": "stream",
          "name": "stdout",
          "text": [
            "?\n"
          ]
        }
      ],
      "source": [
        "# Return the last character of the quote\n",
        "# Write your code below here\n",
        "last_char = quote[-1]\n",
        "print(last_char)"
      ]
    },
    {
      "cell_type": "code",
      "execution_count": null,
      "metadata": {
        "id": "Iej4tGUrTvcB",
        "outputId": "8b6ae0c1-7107-4b57-f899-2f67555b3cae",
        "colab": {
          "base_uri": "https://localhost:8080/"
        }
      },
      "outputs": [
        {
          "output_type": "stream",
          "name": "stdout",
          "text": [
            "What \n"
          ]
        }
      ],
      "source": [
        "# Return the first five character of the quote\n",
        "# Write your code below here\n",
        "first_five = quote[:5]\n",
        "print(first_five)\n"
      ]
    },
    {
      "cell_type": "code",
      "execution_count": null,
      "metadata": {
        "id": "orhEuGTrTvcB",
        "outputId": "194bff79-e8ea-4433-bd55-2cc6e075a44d",
        "colab": {
          "base_uri": "https://localhost:8080/"
        }
      },
      "outputs": [
        {
          "output_type": "stream",
          "name": "stdout",
          "text": [
            "r us?\n"
          ]
        }
      ],
      "source": [
        "# Return the last five character of the quote\n",
        "# Write your code below here\n",
        "last_five = quote[-5:]\n",
        "print(last_five)"
      ]
    },
    {
      "cell_type": "markdown",
      "metadata": {
        "id": "c34ahGKWTvcB"
      },
      "source": [
        "## Lists\n",
        "Create a list, named packages,  with three items, all strings: 'pandas', 'seaborn' and 'scikit-learn'.  Show the list."
      ]
    },
    {
      "cell_type": "code",
      "execution_count": null,
      "metadata": {
        "id": "hxj7TA3OTvcB"
      },
      "outputs": [],
      "source": [
        "# Write your code here"
      ]
    },
    {
      "cell_type": "markdown",
      "metadata": {
        "id": "V0LsbF5WTvcB"
      },
      "source": [
        "Append a string, 'requests'  to this list. Show the changed list."
      ]
    },
    {
      "cell_type": "code",
      "execution_count": null,
      "metadata": {
        "id": "xlf0ZRZwTvcB"
      },
      "outputs": [],
      "source": [
        "# Write your code here"
      ]
    },
    {
      "cell_type": "markdown",
      "metadata": {
        "id": "oWMVzsm6TvcC"
      },
      "source": [
        "Insert a string, 'keras\" as the 2nd item of this list. Show the changed list"
      ]
    },
    {
      "cell_type": "code",
      "execution_count": null,
      "metadata": {
        "id": "MitG7jtoTvcC"
      },
      "outputs": [],
      "source": [
        "# Write your code here"
      ]
    },
    {
      "cell_type": "markdown",
      "metadata": {
        "id": "LF-NFvFQTvcC"
      },
      "source": [
        "Show the first, last and penultimate items in the packages list (hint: use indexing)"
      ]
    },
    {
      "cell_type": "code",
      "execution_count": null,
      "metadata": {
        "id": "BmCyVS-DTvcC"
      },
      "outputs": [],
      "source": [
        "# Write your code here"
      ]
    },
    {
      "cell_type": "markdown",
      "metadata": {
        "id": "ljEXfwqTTvcC"
      },
      "source": [
        "Build a new list of the 2nd to the 4th items inclusive in the packages list (hint: use slicing)"
      ]
    },
    {
      "cell_type": "markdown",
      "source": [
        "#Using pandas to read"
      ],
      "metadata": {
        "id": "NiRBlra9lSzU"
      }
    },
    {
      "cell_type": "code",
      "source": [
        "!pip list # see all the packages installed\n",
        "import pandas as pd"
      ],
      "metadata": {
        "id": "qAMUs58QoyfD"
      },
      "execution_count": null,
      "outputs": []
    },
    {
      "cell_type": "code",
      "source": [
        "\n",
        "file_url =\"https://raw.githubusercontent.com/MarkWilcock/CourseDatasets/refs/heads/main/MT%20Cars/mtcars.csv\"\n",
        "df=pd.read_csv(file_url)\n",
        "df\n"
      ],
      "metadata": {
        "id": "XCAXk-Seljx_"
      },
      "execution_count": null,
      "outputs": []
    },
    {
      "cell_type": "code",
      "source": [
        "df_merc = df[df['model'].str.contains('Merc')]\n",
        "df_merc"
      ],
      "metadata": {
        "id": "5A682Xx-pzVG"
      },
      "execution_count": null,
      "outputs": []
    },
    {
      "cell_type": "code",
      "source": [
        "# prompt: export df_merc to an Excel spreadsheet\n",
        "\n",
        "import pandas as pd\n",
        "\n",
        "# Assuming df_merc is already defined as in your provided code\n",
        "# ... (your existing code to create df_merc) ...\n",
        "\n",
        "# Export the DataFrame to an Excel spreadsheet\n",
        "df_merc.to_excel('df_merc.xlsx', index=False)  # Set index=False to avoid writing row indices\n",
        "\n"
      ],
      "metadata": {
        "id": "a9J1QBLmpzG7"
      },
      "execution_count": null,
      "outputs": []
    },
    {
      "cell_type": "code",
      "source": [
        "# Assuming df_merc is already defined as in the provided code.\n",
        "from google.colab import files\n",
        "df_merc.to_excel('df_merc.xlsx', index=False)  # Save to the current working directory\n",
        "files.download('df_merc.xlsx')\n",
        "#df_merc.to_sql() # to export to sql"
      ],
      "metadata": {
        "id": "jH_0GS-hs8Nj"
      },
      "execution_count": null,
      "outputs": []
    },
    {
      "cell_type": "code",
      "source": [],
      "metadata": {
        "id": "_5pyHq27tXTA"
      },
      "execution_count": null,
      "outputs": []
    },
    {
      "cell_type": "code",
      "source": [],
      "metadata": {
        "id": "3Eaqd1wDtXHw"
      },
      "execution_count": null,
      "outputs": []
    },
    {
      "cell_type": "code",
      "execution_count": null,
      "metadata": {
        "id": "9iP-OzJSTvcC"
      },
      "outputs": [],
      "source": [
        "# Write your code here\n"
      ]
    },
    {
      "cell_type": "markdown",
      "metadata": {
        "id": "fFoFaQ9ZTvcC"
      },
      "source": [
        "## Dicts\n",
        "Create a dict, named fruit,  with three keys: 'apple', 'banana' and 'cherry' and with respective values\n",
        "* 'Fruit, edible, sweet, varying colors, grown on trees'\n",
        "* 'Fruit, elongated, yellow, peelable, soft, sweet'\n",
        "* 'Small, round, red fruit, sweet or tart, stone inside'\n",
        "Display the dict"
      ]
    },
    {
      "cell_type": "code",
      "execution_count": null,
      "metadata": {
        "id": "qz0zEZ8jTvcC"
      },
      "outputs": [],
      "source": [
        "# Write your code here"
      ]
    },
    {
      "cell_type": "markdown",
      "metadata": {
        "id": "rk-lo9E3TvcD"
      },
      "source": [
        "Add another fruit of your choice to the dict and display the dict"
      ]
    },
    {
      "cell_type": "code",
      "execution_count": null,
      "metadata": {
        "id": "NQr4O4n4TvcD"
      },
      "outputs": [],
      "source": [
        "# Write your code here"
      ]
    },
    {
      "cell_type": "markdown",
      "metadata": {
        "id": "AArkU_6cTvcD"
      },
      "source": [
        "Access a value by its key.  Find the value of the 'cherry' key"
      ]
    },
    {
      "cell_type": "code",
      "execution_count": null,
      "metadata": {
        "id": "iB11GaOXTvcD"
      },
      "outputs": [],
      "source": [
        "# Write your code here\n"
      ]
    },
    {
      "cell_type": "markdown",
      "metadata": {
        "id": "vQpZ2IT7TvcD"
      },
      "source": [
        "Remove a key value pair.  Remove 'banana' from the dictionary.  (Hint: use the pop() method)"
      ]
    },
    {
      "cell_type": "code",
      "execution_count": null,
      "metadata": {
        "id": "Wjrdw2_jTvcD"
      },
      "outputs": [],
      "source": [
        "# Write your code here"
      ]
    },
    {
      "cell_type": "markdown",
      "metadata": {
        "id": "POSBisYmTvcE"
      },
      "source": [
        "Check if a key exists.  Does apple exist in fruit?"
      ]
    },
    {
      "cell_type": "code",
      "execution_count": null,
      "metadata": {
        "id": "JyTbX7b5TvcE"
      },
      "outputs": [],
      "source": [
        "# Write your code here"
      ]
    },
    {
      "cell_type": "markdown",
      "metadata": {
        "id": "V1f99ilITvcE"
      },
      "source": [
        "Iterate over the key value pairs in the dict printing out the key and the value of each pair.\n",
        "Hint: use a for loop and the items() method."
      ]
    },
    {
      "cell_type": "code",
      "execution_count": null,
      "metadata": {
        "id": "K2gWQNzbTvcE"
      },
      "outputs": [],
      "source": [
        "# Write your code here"
      ]
    },
    {
      "cell_type": "markdown",
      "metadata": {
        "id": "X6hY06U6TvcE"
      },
      "source": [
        "# Conditional flow\n",
        "This section covers if - elif - else and for.\n"
      ]
    },
    {
      "cell_type": "markdown",
      "metadata": {
        "id": "xwzIUsKjTvcF"
      },
      "source": [
        "Once the code cell below is run, the current_hour variable will be set to the hour of the current time. (int datatype)"
      ]
    },
    {
      "cell_type": "code",
      "execution_count": null,
      "metadata": {
        "id": "LOD0WBLDTvcK"
      },
      "outputs": [],
      "source": [
        "from datetime import datetime\n",
        "\n",
        "current_hour = datetime.now().hour\n",
        "current_hour"
      ]
    },
    {
      "cell_type": "markdown",
      "metadata": {
        "id": "_KgKaLQrTvcL"
      },
      "source": [
        "If current_hour is less then 12, print good morning.  If less than 17, print good afternoon.  Otherwise, print good evening."
      ]
    },
    {
      "cell_type": "code",
      "execution_count": null,
      "metadata": {
        "id": "h1fjnLPzTvcL",
        "colab": {
          "base_uri": "https://localhost:8080/"
        },
        "outputId": "460b0d89-6b26-4ce1-9bc2-ede19715ee0d"
      },
      "outputs": [
        {
          "output_type": "stream",
          "name": "stdout",
          "text": [
            "good afternoon\n"
          ]
        }
      ],
      "source": [
        "# Write your code here\n",
        "if current_hour < 12:\n",
        "  print('good morning')\n",
        "elif current_hour < 17:\n",
        "  print('good afternoon')\n",
        "else:\n",
        "  print('good evening')"
      ]
    },
    {
      "cell_type": "markdown",
      "metadata": {
        "id": "vJVsPOpPTvcL"
      },
      "source": [
        "Print the years between 2020 and 2030 inclusive.  Print each year on a new line.  The result should look like:  \n",
        "2020  \n",
        "2021  \n",
        "...  \n",
        "2030"
      ]
    },
    {
      "cell_type": "code",
      "execution_count": null,
      "metadata": {
        "id": "VG_ZWbKgTvcL",
        "colab": {
          "base_uri": "https://localhost:8080/"
        },
        "outputId": "c1144e4e-a569-43d0-f151-4376b437f9cb"
      },
      "outputs": [
        {
          "output_type": "stream",
          "name": "stdout",
          "text": [
            "2020\n",
            "2021\n",
            "2022\n",
            "2023\n",
            "2024\n",
            "2025\n",
            "2026\n",
            "2027\n",
            "2028\n",
            "2029\n",
            "2030\n"
          ]
        }
      ],
      "source": [
        "# Write your code here\n",
        "for y in range(2020, 2031):\n",
        "  print(y)"
      ]
    },
    {
      "cell_type": "code",
      "source": [],
      "metadata": {
        "id": "ZqhOWuya21Rb"
      },
      "execution_count": null,
      "outputs": []
    },
    {
      "cell_type": "markdown",
      "metadata": {
        "id": "Qh1K5UV-TvcM"
      },
      "source": [
        "Print the leap years between 2020 and 2030 inclusive.  Print each year on a new line."
      ]
    },
    {
      "cell_type": "code",
      "execution_count": null,
      "metadata": {
        "id": "wG6EP07NTvcM",
        "colab": {
          "base_uri": "https://localhost:8080/"
        },
        "outputId": "a0677766-f762-4ad6-8a12-b7731aea074c"
      },
      "outputs": [
        {
          "output_type": "stream",
          "name": "stdout",
          "text": [
            "2020\n",
            "2024\n",
            "2028\n"
          ]
        }
      ],
      "source": [
        "# Write your code here\n",
        "for y in range(2020, 2031):\n",
        "  if y % 4 == 0:\n",
        "    print(y)"
      ]
    },
    {
      "cell_type": "markdown",
      "metadata": {
        "id": "RX5fZHCBTvcM"
      },
      "source": [
        "# Brainteaser exercise"
      ]
    },
    {
      "cell_type": "markdown",
      "metadata": {
        "id": "o2I2rGjsTvcM"
      },
      "source": [
        "Here is a set of blood pressure reading over the last few days.  \n",
        "\n",
        "> '120/80', '122/79', '125/82', '129/85', '129/90', '127/88', '126/80'\n",
        "\n",
        "These are in the format _sys_/_dia_ where:\n",
        "* _sys_ is the systolic pressure - the high number before the /\n",
        "* _dia_ is the diastolic pressure - the lower number after the /"
      ]
    },
    {
      "cell_type": "markdown",
      "metadata": {
        "id": "H60qkxgVTvcM"
      },
      "source": [
        "Create a list (or tuple if you prefer) of these readings.  \n",
        "Assign this to a varable, named bp_readings."
      ]
    },
    {
      "cell_type": "code",
      "execution_count": null,
      "metadata": {
        "id": "YrJdZH6HTvcM"
      },
      "outputs": [],
      "source": [
        "# Write your code here\n",
        "bp_readings = ['120/80', '122/79', '125/82', '129/85', '129/90', '127/88', '126/80']"
      ]
    },
    {
      "cell_type": "code",
      "source": [],
      "metadata": {
        "id": "8rSx463lSxUs"
      },
      "execution_count": null,
      "outputs": []
    },
    {
      "cell_type": "markdown",
      "metadata": {
        "id": "xmpx5M5GTvcM"
      },
      "source": [
        "Using bp_readings, create a list (or tuple if you prefer) that contains the systolic numbers. The elements should be integers.  \n",
        "Assign this to a varable, named systolic.\n",
        "If a list, The result should look like\n",
        "\n",
        "> [120, 122, 125, 129, 127, 126]\n"
      ]
    },
    {
      "cell_type": "code",
      "source": [
        "systolic = [int(reading.split('/') [0])for reading in bp_readings]\n",
        "systolic"
      ],
      "metadata": {
        "colab": {
          "base_uri": "https://localhost:8080/"
        },
        "id": "jV9sCGiQSjo7",
        "outputId": "b595c76a-ce97-46e3-f96a-267b251e995e"
      },
      "execution_count": null,
      "outputs": [
        {
          "output_type": "execute_result",
          "data": {
            "text/plain": [
              "[120, 122, 125, 129, 129, 127, 126]"
            ]
          },
          "metadata": {},
          "execution_count": 54
        }
      ]
    },
    {
      "cell_type": "code",
      "source": [],
      "metadata": {
        "id": "BZ_AZTE2UCnA"
      },
      "execution_count": null,
      "outputs": []
    },
    {
      "cell_type": "code",
      "source": [
        "diastolic = [int(reading.split('/') [1])for reading in bp_readings]\n",
        "diastolic"
      ],
      "metadata": {
        "colab": {
          "base_uri": "https://localhost:8080/"
        },
        "outputId": "60f373ad-c8bd-45b1-c3d2-7ffe55c6c517",
        "id": "8sftdCpyUGiX"
      },
      "execution_count": null,
      "outputs": [
        {
          "output_type": "execute_result",
          "data": {
            "text/plain": [
              "[80, 79, 82, 85, 90, 88, 80]"
            ]
          },
          "metadata": {},
          "execution_count": 55
        }
      ]
    },
    {
      "cell_type": "markdown",
      "source": [
        "#Functions"
      ],
      "metadata": {
        "id": "j0JfNtZWUWru"
      }
    },
    {
      "cell_type": "code",
      "source": [
        "def triangle_area(base, height):\n",
        "  \"\"\" calculates the area of a triangle given base and height\"\"\"\n",
        "  return base * height/2"
      ],
      "metadata": {
        "id": "lqKsmuPiUexs"
      },
      "execution_count": null,
      "outputs": []
    },
    {
      "cell_type": "code",
      "source": [
        "triangle_area(10,5)"
      ],
      "metadata": {
        "colab": {
          "base_uri": "https://localhost:8080/"
        },
        "id": "lw8PQsoZVbZy",
        "outputId": "24265088-4340-411a-d886-214b2e65cf64"
      },
      "execution_count": null,
      "outputs": [
        {
          "output_type": "execute_result",
          "data": {
            "text/plain": [
              "25.0"
            ]
          },
          "metadata": {},
          "execution_count": 61
        }
      ]
    },
    {
      "cell_type": "code",
      "source": [
        "def list_average (list_of_numbers):\n",
        "  \"\"\" calculates the average of a list of numbers\"\"\"\n",
        "  return sum(list_of_numbers) / len(list_of_numbers)"
      ],
      "metadata": {
        "id": "nLzUNtrlbSPY"
      },
      "execution_count": null,
      "outputs": []
    },
    {
      "cell_type": "code",
      "source": [
        "list_example = [1,2,3,4,5]\n",
        "list_average(list_example)\n"
      ],
      "metadata": {
        "colab": {
          "base_uri": "https://localhost:8080/"
        },
        "id": "FWCZkon_bR1w",
        "outputId": "efeab84d-6659-4d1f-b975-01532f57f719"
      },
      "execution_count": null,
      "outputs": [
        {
          "output_type": "execute_result",
          "data": {
            "text/plain": [
              "3.0"
            ]
          },
          "metadata": {},
          "execution_count": 64
        }
      ]
    },
    {
      "cell_type": "code",
      "source": [
        "#age given date  of birth\n",
        "age_given_dob = lambda dob: 2023 - dob"
      ],
      "metadata": {
        "id": "ZiYxu9skb3p8"
      },
      "execution_count": null,
      "outputs": []
    },
    {
      "cell_type": "code",
      "source": [
        "# prompt: write a function named get_age, that takes one argument named dob, which is a date-string formatted as 'yyyy'-mm-dd' e.g. '2020-01-31' The function returns the whole number of years of between dob and the current date.\n",
        "\n",
        "from datetime import datetime\n",
        "\n",
        "def get_age(dob):\n",
        "  \"\"\"\n",
        "  Calculates the whole number of years between a date of birth and the current date.\n",
        "\n",
        "  Args:\n",
        "    dob: A date string in 'yyyy-mm-dd' format.\n",
        "\n",
        "  Returns:\n",
        "    The whole number of years between the dob and the current date.\n",
        "  \"\"\"\n",
        "  try:\n",
        "    dob_date = datetime.strptime(dob, '%Y-%m-%d').date()\n",
        "    today = datetime.now().date()\n",
        "    age = today.year - dob_date.year - ((today.month, today.day) < (dob_date.month, dob_date.day))\n",
        "    return age\n",
        "  except ValueError:\n",
        "    return \"Invalid date format. Please use 'yyyy-mm-dd'.\"\n"
      ],
      "metadata": {
        "id": "wwLcpIIOb3Kk"
      },
      "execution_count": null,
      "outputs": []
    },
    {
      "cell_type": "code",
      "source": [
        "triangle_area?"
      ],
      "metadata": {
        "id": "QotTirWCWqAp"
      },
      "execution_count": null,
      "outputs": []
    },
    {
      "cell_type": "code",
      "source": [
        "get_age('2006-07-22')"
      ],
      "metadata": {
        "colab": {
          "base_uri": "https://localhost:8080/"
        },
        "id": "bPufu-j7cqGH",
        "outputId": "267bdb3e-5ccd-4cf0-8e08-e1f2f1b5bb04"
      },
      "execution_count": null,
      "outputs": [
        {
          "output_type": "execute_result",
          "data": {
            "text/plain": [
              "18"
            ]
          },
          "metadata": {},
          "execution_count": 67
        }
      ]
    },
    {
      "cell_type": "code",
      "source": [],
      "metadata": {
        "id": "0WQeX5tidy-_"
      },
      "execution_count": null,
      "outputs": []
    },
    {
      "cell_type": "markdown",
      "metadata": {
        "id": "YSysmozjTvcM"
      },
      "source": [
        "Do the same for the diastolic numbers.\n",
        "Assign this to a varable, named diastolic.\n"
      ]
    },
    {
      "cell_type": "code",
      "execution_count": null,
      "metadata": {
        "id": "rSiipS9bTvcN",
        "colab": {
          "base_uri": "https://localhost:8080/"
        },
        "outputId": "41941eb6-a5fc-424a-fb4e-8919d4070b92"
      },
      "outputs": [
        {
          "output_type": "execute_result",
          "data": {
            "text/plain": [
              "[80, 79, 82, 85, 90, 88, 80]"
            ]
          },
          "metadata": {},
          "execution_count": 50
        }
      ],
      "source": [
        "# Write your code here\n",
        "diastolic = [int(bp.split('/')[1]) for bp in bp_readings]\n",
        "diastolic"
      ]
    },
    {
      "cell_type": "markdown",
      "metadata": {
        "id": "USNs0gBgTvcN"
      },
      "source": [
        "Calculate\n",
        "1. the average systolic pressure reading throughout the period?\n",
        "1. the smallest systolic pressure reading"
      ]
    },
    {
      "cell_type": "code",
      "execution_count": null,
      "metadata": {
        "id": "6cI27acnTvcN",
        "colab": {
          "base_uri": "https://localhost:8080/"
        },
        "outputId": "753e6f37-b691-47aa-ebc9-12249d9578c4"
      },
      "outputs": [
        {
          "output_type": "execute_result",
          "data": {
            "text/plain": [
              "125.42857142857143"
            ]
          },
          "metadata": {},
          "execution_count": 51
        }
      ],
      "source": [
        "#  write your code here\n",
        "avg_systolic = sum(systolic) / len(systolic)\n",
        "avg_systolic"
      ]
    },
    {
      "cell_type": "code",
      "source": [],
      "metadata": {
        "id": "sxEqy0AOSoQV"
      },
      "execution_count": null,
      "outputs": []
    },
    {
      "cell_type": "code",
      "execution_count": null,
      "metadata": {
        "id": "WW3ecv94TvcM",
        "colab": {
          "base_uri": "https://localhost:8080/"
        },
        "outputId": "ba70573f-4ffd-44d3-81fa-e4e8e517a7a0"
      },
      "outputs": [
        {
          "output_type": "execute_result",
          "data": {
            "text/plain": [
              "[120, 122, 125, 129, 129, 127, 126]"
            ]
          },
          "metadata": {},
          "execution_count": 49
        }
      ],
      "source": [
        "# Write your code here\n",
        "\n",
        "\n",
        "\n",
        "\n",
        "#systolic=[]\n",
        "#distolic=[]\n",
        "\n",
        "#systolic = [int(bp.split('/')[0]) for bp in bp_readings]\n",
        "#systolic"
      ]
    },
    {
      "cell_type": "markdown",
      "metadata": {
        "id": "YAHGtK-mTvcN"
      },
      "source": [
        "*Optional Advanced Section*  \n",
        "zip together the systolic and diastolic lists to reproduce the original bp list.  \n",
        "Hint: use the zip function"
      ]
    },
    {
      "cell_type": "code",
      "execution_count": null,
      "metadata": {
        "id": "THuFXwn-TvcO"
      },
      "outputs": [],
      "source": [
        "# write your code here"
      ]
    },
    {
      "cell_type": "markdown",
      "metadata": {
        "id": "X-e7V8elTvcO"
      },
      "source": [
        "Reproduce the original bp_readings list from systolic and diastolic lists\n",
        "Hint: use the zip function then a list comprehension"
      ]
    },
    {
      "cell_type": "code",
      "execution_count": null,
      "metadata": {
        "id": "MxqrPaJYTvcO"
      },
      "outputs": [],
      "source": [
        "# write your code here"
      ]
    },
    {
      "cell_type": "markdown",
      "metadata": {
        "id": "G4druqckTvcO"
      },
      "source": [
        "Create a new list, named differences, that calculates the difference between the systolic and diastolic values for each element of thse lists.  Note that this list will have  the same number of elements as systloic and diastolic."
      ]
    },
    {
      "cell_type": "code",
      "execution_count": null,
      "metadata": {
        "id": "TqOqJMLdTvcO"
      },
      "outputs": [],
      "source": [
        "# Write your code here"
      ]
    },
    {
      "cell_type": "code",
      "execution_count": null,
      "metadata": {
        "id": "OtwwjaFSTvcO"
      },
      "outputs": [],
      "source": [
        "# An alternative way to do this uses zip() and a list comprhension\n",
        "# Write your code here"
      ]
    }
  ],
  "metadata": {
    "kernelspec": {
      "display_name": ".venv",
      "language": "python",
      "name": "python3"
    },
    "language_info": {
      "codemirror_mode": {
        "name": "ipython",
        "version": 3
      },
      "file_extension": ".py",
      "mimetype": "text/x-python",
      "name": "python",
      "nbconvert_exporter": "python",
      "pygments_lexer": "ipython3",
      "version": "3.12.3"
    },
    "colab": {
      "provenance": [],
      "toc_visible": true,
      "include_colab_link": true
    }
  },
  "nbformat": 4,
  "nbformat_minor": 0
}